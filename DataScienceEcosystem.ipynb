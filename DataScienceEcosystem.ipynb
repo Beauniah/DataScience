{
 "cells": [
  {
   "cell_type": "markdown",
   "id": "46fdf2c9-1a35-4744-b7c2-e0a6fe7acd70",
   "metadata": {},
   "source": [
    "# Data Science Tools and Ecosystem "
   ]
  },
  {
   "cell_type": "markdown",
   "id": "ce802847-166f-4c41-97d0-063e904a2d21",
   "metadata": {},
   "source": [
    "In this notebook, Data Science Tools and Ecosystem are summarized."
   ]
  },
  {
   "cell_type": "markdown",
   "id": "6ee86542-ef37-4e03-8b51-4bb6ea235d00",
   "metadata": {},
   "source": [
    "Some of the popular languages that Data Scientists use are: \n",
    "1. Python\n",
    "2. R \n",
    "3. Julia\n",
    "4. SQL"
   ]
  },
  {
   "cell_type": "markdown",
   "id": "887d7116-4228-4e36-9224-28a025829cd6",
   "metadata": {},
   "source": [
    "Some of the commonly used libraries used by Data Scientists include:\n",
    "1. Scikit-learn\n",
    "2. Pandas\n",
    "3. Numpy"
   ]
  },
  {
   "cell_type": "markdown",
   "id": "82e8491c-31ac-47fc-9c06-5cf3bcf42a48",
   "metadata": {},
   "source": [
    "| Data Science Tools    |\n",
    "|----------------------|\n",
    "| Jupyter Notebook     |\n",
    "| VS Code              |\n",
    "| RStudio              |\n"
   ]
  },
  {
   "cell_type": "markdown",
   "id": "91541a34-0d29-42ca-8487-9d687700460b",
   "metadata": {},
   "source": [
    "### Below are a few examples of evaluating arithmetic expressions in Python"
   ]
  },
  {
   "cell_type": "code",
   "execution_count": 3,
   "id": "14d74450-d8df-4a50-937c-ce66c41fb65d",
   "metadata": {
    "tags": []
   },
   "outputs": [
    {
     "data": {
      "text/plain": [
       "17"
      ]
     },
     "execution_count": 3,
     "metadata": {},
     "output_type": "execute_result"
    }
   ],
   "source": [
    "#This a simple arithmetic expression to mutiply then add integers\n",
    "(3*4)+5"
   ]
  },
  {
   "cell_type": "code",
   "execution_count": 5,
   "id": "1be9c1d4-01cd-4dd3-b4e0-d260bdbf3592",
   "metadata": {
    "tags": []
   },
   "outputs": [
    {
     "data": {
      "text/plain": [
       "3.3333333333333335"
      ]
     },
     "execution_count": 5,
     "metadata": {},
     "output_type": "execute_result"
    }
   ],
   "source": [
    "#This will convert 200 minutes to hours by diving by 60\n",
    "min = 200\n",
    "hours = min / 60\n",
    "hours "
   ]
  },
  {
   "cell_type": "markdown",
   "id": "7ecf20d2-fb35-42cd-ae11-1c514b9155a1",
   "metadata": {},
   "source": [
    "Objectives: \n",
    "- List populor tools for Data Science\n",
    "- List popular Libraries for data science\n",
    "- list popular lanagues for data science\n",
    "- perform arithmetic expressions\n",
    "- use different type of headers for markdown cells"
   ]
  },
  {
   "cell_type": "markdown",
   "id": "1827c2dd-acee-4434-a6a4-f2de0998685e",
   "metadata": {},
   "source": [
    "## Author\n",
    "Beauniah Kustaa"
   ]
  },
  {
   "cell_type": "code",
   "execution_count": null,
   "id": "c0ba7263-fcf2-4e61-a108-1c2eda23de43",
   "metadata": {},
   "outputs": [],
   "source": []
  }
 ],
 "metadata": {
  "kernelspec": {
   "display_name": "Python",
   "language": "python",
   "name": "conda-env-python-py"
  },
  "language_info": {
   "codemirror_mode": {
    "name": "ipython",
    "version": 3
   },
   "file_extension": ".py",
   "mimetype": "text/x-python",
   "name": "python",
   "nbconvert_exporter": "python",
   "pygments_lexer": "ipython3",
   "version": "3.7.12"
  }
 },
 "nbformat": 4,
 "nbformat_minor": 5
}
